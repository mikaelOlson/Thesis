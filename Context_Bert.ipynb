{
 "cells": [
  {
   "cell_type": "code",
   "execution_count": null,
   "id": "59bab05c-57c8-4f30-ae3e-1877ac75dfd9",
   "metadata": {},
   "outputs": [],
   "source": [
    "import torch as torch\n",
    "import numpy as np\n",
    "import os\n",
    "from torch import nn\n",
    "import transformers\n",
    "from accelerate import Accelerator\n",
    "from huggingface_hub import Repository\n",
    "from transformers import (\n",
    "    CONFIG_MAPPING,\n",
    "    MODEL_MAPPING,\n",
    "    AdamW,\n",
    "    AutoConfig,\n",
    "    AutoModelForTokenClassification,\n",
    "    AutoTokenizer,\n",
    "    DataCollatorForTokenClassification,\n",
    "    SchedulerType,\n",
    "    default_data_collator,\n",
    "    get_scheduler,\n",
    "    set_seed,\n",
    "    TokenClassificationPipeline,\n",
    "    pipeline\n",
    ")\n",
    "from ipywidgets import IntProgress\n",
    "from tokenizers import decoders\n",
    "from tokenizers.models import WordPiece\n",
    "from tokenizers import Tokenizer"
   ]
  },
  {
   "cell_type": "code",
   "execution_count": null,
   "id": "6e8fb93f-fc8c-4c2a-a062-4774e3245d4b",
   "metadata": {},
   "outputs": [],
   "source": [
    "print(os.getcwd())"
   ]
  },
  {
   "cell_type": "code",
   "execution_count": null,
   "id": "c0322e71-749a-40b5-9abb-6844fd8a16d5",
   "metadata": {},
   "outputs": [],
   "source": [
    "x = torch.load('testtorch')\n",
    "print(type(x))"
   ]
  },
  {
   "cell_type": "code",
   "execution_count": null,
   "id": "824a953d-0311-485a-8bf0-ce2b07b1a201",
   "metadata": {},
   "outputs": [],
   "source": [
    "model = AutoModelForTokenClassification.from_pretrained('/media/ludvig/ner')\n",
    "tokenizer = AutoTokenizer.from_pretrained('Maltehb/danish-bert-botxo', add_prefix_space=True)\n",
    "print('hej')"
   ]
  },
  {
   "cell_type": "code",
   "execution_count": null,
   "id": "dad69c39-5918-4144-8515-de149b356fce",
   "metadata": {},
   "outputs": [],
   "source": [
    "pipe = pipeline('text-classification')"
   ]
  },
  {
   "cell_type": "code",
   "execution_count": null,
   "id": "2db25a41-758a-4214-8b27-7be2006a01e2",
   "metadata": {},
   "outputs": [],
   "source": [
    "pipe(\"This is a subpar restaurant\")"
   ]
  },
  {
   "cell_type": "code",
   "execution_count": null,
   "id": "d49f9524-1d7d-485c-8e3d-c049bea7cc7f",
   "metadata": {},
   "outputs": [],
   "source": [
    "pipe = TokenClassificationPipeline(model, tokenizer)"
   ]
  },
  {
   "cell_type": "code",
   "execution_count": null,
   "id": "aac66ca8-ecf1-4acd-9950-c36b12945dd0",
   "metadata": {},
   "outputs": [],
   "source": [
    "model = AutoModelForTokenClassification.from_pretrained('/media/ludvig/ner')\n",
    "tokenizer = AutoTokenizer.from_pretrained('Maltehb/danish-bert-botxo')\n",
    "\n",
    "sequence = \"Systofte Bygade 6, Systofte, 4800 Nykøbing F\"\n",
    "sequenceb = \"Systofte Bygade 33, Systofte, 4800 Nykøbing F\"\n",
    "sequence = sequence.replace(',',' ')\n",
    "inputs = tokenizer(sequence,sequenceb, return_tensors=\"pt\")\n",
    "print('finished')"
   ]
  },
  {
   "cell_type": "code",
   "execution_count": null,
   "id": "10eb8656-cc1d-4098-8d07-a4b9f2441a20",
   "metadata": {},
   "outputs": [],
   "source": [
    "tokens = inputs.tokens()\n",
    "outputs = model(**inputs).logits\n",
    "predictions = torch.argmax(outputs, dim=2)\n",
    "print('done')"
   ]
  },
  {
   "cell_type": "code",
   "execution_count": null,
   "id": "c34788d9-8c6c-4784-832c-d6f464fbfcd7",
   "metadata": {},
   "outputs": [],
   "source": [
    "preds = []\n",
    "for token, prediction in zip(tokens, predictions[0].numpy()):\n",
    "    preds.append(model.config.id2label[prediction])\n",
    "    print((token, model.config.id2label[prediction]))"
   ]
  },
  {
   "cell_type": "code",
   "execution_count": null,
   "id": "ce62d9e3-bc73-4cb0-8fc2-33a4a89b7436",
   "metadata": {},
   "outputs": [],
   "source": [
    "print(inputs)"
   ]
  },
  {
   "cell_type": "code",
   "execution_count": null,
   "id": "9b546cff-5ce1-4ea0-bc61-9c26a3d6c2eb",
   "metadata": {},
   "outputs": [],
   "source": [
    "def fix(a, b): #a = tokens, b = labels\n",
    "    current = -1\n",
    "    tokens = []\n",
    "    labels = []\n",
    "    for i in range(len(a)):\n",
    "        if 'CLS' in a[i]:\n",
    "            print('skipping CLStag')\n",
    "        elif 'SEP' in a[i]:\n",
    "            break\n",
    "        elif '#' in a[i]:\n",
    "            temp = a[i].replace('#','')\n",
    "            tokens[current]+=temp\n",
    "            \n",
    "        else:\n",
    "            tokens.append(a[i])\n",
    "            labels.append(b[i])\n",
    "            current+=1\n",
    "    return tokens, labels"
   ]
  },
  {
   "cell_type": "code",
   "execution_count": 107,
   "id": "ac241510-37e1-4185-a24f-e491159f8ab4",
   "metadata": {},
   "outputs": [
    {
     "name": "stdout",
     "output_type": "stream",
     "text": [
      "skipping CLStag\n"
     ]
    }
   ],
   "source": [
    "t, l = fix(tokens, preds)"
   ]
  },
  {
   "cell_type": "code",
   "execution_count": 108,
   "id": "cfe69bd7-0eb5-4536-9457-a432c6c7f39b",
   "metadata": {},
   "outputs": [
    {
     "name": "stdout",
     "output_type": "stream",
     "text": [
      "systofte\n",
      "B-STREET\n",
      "bygade\n",
      "E-STREET\n",
      "6\n",
      "S-NUMBER\n",
      "systofte\n",
      "S-VEJBY\n",
      "4800\n",
      "S-POSTCODE\n",
      "nykøbing\n",
      "B-POSTNAVN\n",
      "f\n",
      "E-POSTNAVN\n"
     ]
    }
   ],
   "source": [
    "for i in range(len(t)):\n",
    "    print(t[i])\n",
    "    print(l[i])\n"
   ]
  },
  {
   "cell_type": "code",
   "execution_count": null,
   "id": "59a6f42b-c63f-42cc-9f51-9cf042753bbd",
   "metadata": {},
   "outputs": [],
   "source": []
  }
 ],
 "metadata": {
  "kernelspec": {
   "display_name": "Python 3 (ipykernel)",
   "language": "python",
   "name": "python3"
  },
  "language_info": {
   "codemirror_mode": {
    "name": "ipython",
    "version": 3
   },
   "file_extension": ".py",
   "mimetype": "text/x-python",
   "name": "python",
   "nbconvert_exporter": "python",
   "pygments_lexer": "ipython3",
   "version": "3.8.10"
  }
 },
 "nbformat": 4,
 "nbformat_minor": 5
}
